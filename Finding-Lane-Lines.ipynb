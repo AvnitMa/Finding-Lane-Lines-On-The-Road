{
 "cells": [
  {
   "cell_type": "code",
   "execution_count": 1,
   "metadata": {
    "collapsed": true
   },
   "outputs": [],
   "source": [
    "#importing some useful packages\n",
    "import matplotlib.pyplot as plt\n",
    "import matplotlib.image as mpimg\n",
    "import numpy as np\n",
    "import cv2\n",
    "import os\n",
    "import math\n",
    "from moviepy.editor import VideoFileClip\n",
    "from IPython.display import HTML\n",
    "%matplotlib inline"
   ]
  },
  {
   "cell_type": "code",
   "execution_count": 17,
   "metadata": {
    "collapsed": false
   },
   "outputs": [],
   "source": [
    "#Helper methods:\n",
    "\n",
    "def grayscale(img):\n",
    "    \"\"\"Applies the Grayscale transform\n",
    "    This will return an image with only one color channel\n",
    "    but NOTE: to see the returned image as grayscale\n",
    "    (assuming your grayscaled image is called 'gray')\n",
    "    you should call plt.imshow(gray, cmap='gray')\"\"\"\n",
    "    return cv2.cvtColor(img, cv2.COLOR_RGB2GRAY)\n",
    "    # Or use BGR2GRAY if you read an image with cv2.imread()\n",
    "    #return cv2.cvtColor(img, cv2.COLOR_BGR2GRAY)\n",
    "    \n",
    "def canny(img, low_threshold, high_threshold):\n",
    "    \"\"\"Applies the Canny transform\"\"\"\n",
    "    return cv2.Canny(img, low_threshold, high_threshold)\n",
    "\n",
    "def gaussian_blur(img, kernel_size):\n",
    "    \"\"\"Applies a Gaussian Noise kernel\"\"\"\n",
    "    return cv2.GaussianBlur(img, (kernel_size, kernel_size), 0)\n",
    "\n",
    "def region_of_interest(img, vertices):\n",
    "    \"\"\"\n",
    "    Applies an image mask.\n",
    "    \n",
    "    Only keeps the region of the image defined by the polygon\n",
    "    formed from `vertices`. The rest of the image is set to black.\n",
    "    \"\"\"\n",
    "    #defining a blank mask to start with\n",
    "    mask = np.zeros_like(img)   \n",
    "    \n",
    "    #defining a 3 channel or 1 channel color to fill the mask with depending on the input image\n",
    "    if len(img.shape) > 2:\n",
    "        channel_count = img.shape[2]  # i.e. 3 or 4 depending on your image\n",
    "        ignore_mask_color = (255,) * channel_count\n",
    "    else:\n",
    "        ignore_mask_color = 255\n",
    "        \n",
    "    #filling pixels inside the polygon defined by \"vertices\" with the fill color    \n",
    "    cv2.fillPoly(mask, vertices, ignore_mask_color)\n",
    "    \n",
    "    #returning the image only where mask pixels are nonzero\n",
    "    masked_image = cv2.bitwise_and(img, mask)\n",
    "    return masked_image\n",
    "\n",
    "\n",
    "def line_eq(X,slop,x1,y1):\n",
    "    return slop * (X - x1) + y1\n",
    "\n",
    "def x_in_line_eq (Y,slop, x1,y1):\n",
    "    return ((-slop * x1) - Y + y1)/( -slop)\n",
    "\n",
    "def get_slope(x1,y1,x2,y2):\n",
    "    if x1==x2:\n",
    "        return 1000\n",
    "    else: \n",
    "        return (y2 - y1) / (x2 - x1)\n",
    "\n",
    "def draw_lines(img, lines, color=[255, 0, 0], thickness=2):\n",
    "    \n",
    "    right_line_x =[] \n",
    "    right_line_y =[]\n",
    "    left_line_x=[] \n",
    "    left_line_y=[]\n",
    "    slopes_left =[] \n",
    "    slopes_right =[]\n",
    "    slope_threshold = 0.5\n",
    "   \n",
    "    if lines is None:\n",
    "        return\n",
    "\n",
    "    for segment in lines:\n",
    "        for x1,y1,x2,y2 in segment:\n",
    "            slope = get_slope(x1,y1,x2,y2)\n",
    "            if (slope > 0 and slope > slope_threshold):\n",
    "                    right_line_x.append((x1+x2)/2)\n",
    "                    right_line_y.append((y1+y2)/2)\n",
    "                    slopes_right.append(slope)\n",
    "                   \n",
    "            if (slope < 0 and abs(slope) > slope_threshold):\n",
    "                    left_line_x.append((x1+x2)/2)\n",
    "                    left_line_y.append((y1+y2)/2)\n",
    "                    slopes_left.append(slope)\n",
    "    \n",
    "    shape = img.shape\n",
    "    avr_slope_left = np.average(slopes_left)\n",
    "    avr_slope_right = np.average(slopes_right)\n",
    "    \n",
    "   \n",
    "    #left line\n",
    "    if len(left_line_x) > 0 and len(left_line_y)>0:\n",
    "         #end points calculation\n",
    "            \n",
    "        left_line_y.append(shape[1])\n",
    "        left_line_x.append(x_in_line_eq (shape[1],avr_slope_left,left_line_x[0],left_line_y[0]))\n",
    "        \n",
    "        #draw line\n",
    "        \n",
    "        cv2.line(img, (int(min(left_line_x)), int(max(left_line_y))), \n",
    "             (int(max(left_line_x)), int(min(left_line_y))), color,10)\n",
    "        \n",
    "    #right line  \n",
    "    \n",
    "    if len(right_line_x) > 0 and len(right_line_y)>0:\n",
    "        \n",
    "         #end points calculation\n",
    "            \n",
    "        right_line_y.append(shape[1])\n",
    "        right_line_x.append(x_in_line_eq (shape[1],avr_slope_right,right_line_x[0],right_line_y[0]))\n",
    "        \n",
    "        #draw line\n",
    "        cv2.line(img, (int(min(right_line_x)), int(min(right_line_y))), \n",
    "             (int(max(right_line_x)), int(max(right_line_y))), color,10)\n",
    "            \n",
    "\n",
    "def hough_lines(img, rho, theta, threshold, min_line_len, max_line_gap):\n",
    "    \"\"\"\n",
    "    `img` should be the output of a Canny transform.\n",
    "        \n",
    "    Returns an image with hough lines drawn.\n",
    "    \"\"\"\n",
    "    lines = cv2.HoughLinesP(img, rho, theta, threshold, np.array([]), minLineLength=min_line_len, maxLineGap=max_line_gap)  \n",
    "    line_img = np.zeros((img.shape[0], img.shape[1], 3), dtype=np.uint8)\n",
    "    draw_lines(line_img, lines)\n",
    "    return line_img\n",
    "\n",
    "# Python 3 has support for cool math symbols.\n",
    "\n",
    "def weighted_img(img, initial_img, α=0.8, β=1., λ=0.):\n",
    "    \"\"\"\n",
    "    `img` is the output of the hough_lines(), An image with lines drawn on it.\n",
    "    Should be a blank image (all black) with lines drawn on it.\n",
    "    \n",
    "    `initial_img` should be the image before any processing.\n",
    "    \n",
    "    The result image is computed as follows:\n",
    "    \n",
    "    initial_img * α + img * β + λ\n",
    "    NOTE: initial_img and img must be the same shape!\n",
    "    \"\"\"\n",
    "    return cv2.addWeighted(initial_img, α, img, β, λ)"
   ]
  },
  {
   "cell_type": "code",
   "execution_count": 18,
   "metadata": {
    "collapsed": false
   },
   "outputs": [],
   "source": [
    "#Helper method for intial processing of the image\n",
    "def grey_filter_img(image):\n",
    "    grey = grayscale(image)\n",
    "    return gaussian_blur(grey, 5)"
   ]
  },
  {
   "cell_type": "code",
   "execution_count": 19,
   "metadata": {
    "collapsed": true
   },
   "outputs": [],
   "source": [
    "#Helper method for reading an image file\n",
    "\n",
    "def read_img(location):\n",
    "    image = mpimg.imread(location)\n",
    "    return image"
   ]
  },
  {
   "cell_type": "code",
   "execution_count": 20,
   "metadata": {
    "collapsed": false
   },
   "outputs": [],
   "source": [
    "#Helper method for processing of the image\n",
    "\n",
    "def process_image (image):\n",
    "    \n",
    "    grey_image = grey_filter_img(image)\n",
    "    \n",
    "    low_threshold = 50\n",
    "    high_threshold = 150\n",
    "    edges = canny(grey_image, low_threshold, high_threshold)\n",
    "\n",
    "    imshape = grey_image.shape\n",
    "    vertices = np.array([[(80,imshape[0]),(480, 310), (470, 290), (imshape[1],imshape[0])]], dtype=np.int32)\n",
    "\n",
    "    masked_edges = region_of_interest(edges, vertices)\n",
    "    # Define the Hough transform parameters\n",
    "\n",
    "    rho = 2 # distance resolution in pixels of the Hough grid\n",
    "    theta = np.pi/180 # angular resolution in radians of the Hough grid\n",
    "    threshold = 15     # minimum number of votes (intersections in Hough grid cell)\n",
    "    min_line_len = 40 #minimum number of pixels making up a line\n",
    "    max_line_gap = 20    # maximum gap in pixels between connectable line segments\n",
    "\n",
    "    # Run Hough on edge detected image\n",
    "    # Output \"lines\" is an array containing endpoints of detected line segments\n",
    "\n",
    "    lines = hough_lines(masked_edges, rho, theta, threshold, min_line_len, max_line_gap)\n",
    "\n",
    "    # Draw the lines on the edge image\n",
    "    lines_edges = weighted_img(lines, image, α=0.7, β=1., λ=0.)\n",
    "    \n",
    "    return lines_edges"
   ]
  },
  {
   "cell_type": "code",
   "execution_count": 21,
   "metadata": {
    "collapsed": false
   },
   "outputs": [],
   "source": [
    "#The pipeline method:\n",
    "\n",
    "def test_pipeline():\n",
    "    \n",
    "    test_dir = \"test_images/\"\n",
    "    list_img = os.listdir(test_dir)\n",
    "    for img in list_img:\n",
    "        location = os.path.join(test_dir,img)\n",
    "        if os.path.isfile(location):\n",
    "            test_image = process_image(read_img(location))\n",
    "            mpimg.imsave(location, test_image)"
   ]
  },
  {
   "cell_type": "code",
   "execution_count": 22,
   "metadata": {
    "collapsed": false
   },
   "outputs": [],
   "source": [
    "test_pipeline()"
   ]
  },
  {
   "cell_type": "code",
   "execution_count": 23,
   "metadata": {
    "collapsed": false
   },
   "outputs": [
    {
     "name": "stdout",
     "output_type": "stream",
     "text": [
      "[MoviePy] >>>> Building video white.mp4\n",
      "[MoviePy] Writing video white.mp4\n"
     ]
    },
    {
     "name": "stderr",
     "output_type": "stream",
     "text": [
      "100%|█████████▉| 221/222 [00:04<00:00, 41.17it/s]\n"
     ]
    },
    {
     "name": "stdout",
     "output_type": "stream",
     "text": [
      "[MoviePy] Done.\n",
      "[MoviePy] >>>> Video ready: white.mp4 \n",
      "\n",
      "CPU times: user 2.44 s, sys: 441 ms, total: 2.88 s\n",
      "Wall time: 5.58 s\n"
     ]
    }
   ],
   "source": [
    "white_output = 'white.mp4'\n",
    "clip1 = VideoFileClip(\"solidWhiteRight.mp4\")\n",
    "white_clip = clip1.fl_image(process_image) #NOTE: this function expects color images!!\n",
    "%time white_clip.write_videofile(white_output, audio=False)"
   ]
  },
  {
   "cell_type": "code",
   "execution_count": 24,
   "metadata": {
    "collapsed": false
   },
   "outputs": [
    {
     "data": {
      "text/html": [
       "\n",
       "<video width=\"960\" height=\"540\" controls>\n",
       "  <source src=\"white.mp4\">\n",
       "</video>\n"
      ],
      "text/plain": [
       "<IPython.core.display.HTML object>"
      ]
     },
     "execution_count": 24,
     "metadata": {},
     "output_type": "execute_result"
    }
   ],
   "source": [
    "HTML(\"\"\"\n",
    "<video width=\"960\" height=\"540\" controls>\n",
    "  <source src=\"{0}\">\n",
    "</video>\n",
    "\"\"\".format(white_output))"
   ]
  },
  {
   "cell_type": "code",
   "execution_count": 25,
   "metadata": {
    "collapsed": false
   },
   "outputs": [
    {
     "name": "stdout",
     "output_type": "stream",
     "text": [
      "[MoviePy] >>>> Building video yellow.mp4\n",
      "[MoviePy] Writing video yellow.mp4\n"
     ]
    },
    {
     "name": "stderr",
     "output_type": "stream",
     "text": [
      "100%|█████████▉| 681/682 [00:16<00:00, 41.84it/s]\n"
     ]
    },
    {
     "name": "stdout",
     "output_type": "stream",
     "text": [
      "[MoviePy] Done.\n",
      "[MoviePy] >>>> Video ready: yellow.mp4 \n",
      "\n",
      "CPU times: user 7.83 s, sys: 1.89 s, total: 9.73 s\n",
      "Wall time: 17 s\n"
     ]
    }
   ],
   "source": [
    "yellow_output = 'yellow.mp4'\n",
    "clip2 = VideoFileClip('solidYellowLeft.mp4')\n",
    "yellow_clip = clip2.fl_image(process_image)\n",
    "%time yellow_clip.write_videofile(yellow_output, audio=False)"
   ]
  },
  {
   "cell_type": "code",
   "execution_count": 26,
   "metadata": {
    "collapsed": false
   },
   "outputs": [
    {
     "data": {
      "text/html": [
       "\n",
       "<video width=\"960\" height=\"540\" controls>\n",
       "  <source src=\"yellow.mp4\">\n",
       "</video>\n"
      ],
      "text/plain": [
       "<IPython.core.display.HTML object>"
      ]
     },
     "execution_count": 26,
     "metadata": {},
     "output_type": "execute_result"
    }
   ],
   "source": [
    "HTML(\"\"\"\n",
    "<video width=\"960\" height=\"540\" controls>\n",
    "  <source src=\"{0}\">\n",
    "</video>\n",
    "\"\"\".format(yellow_output))"
   ]
  },
  {
   "cell_type": "code",
   "execution_count": null,
   "metadata": {
    "collapsed": true
   },
   "outputs": [],
   "source": [
    "Reflections\n",
    "\n",
    "I imagine that my algorithm will be more robust if:\n",
    "    1) Curves : I could draw a curvy line and not a straight line.\n",
    "    2) Speed : I could process the images faster, because if the car \n",
    "        moves fast, the image processing might be inaccurate.\n",
    "    3) Visibility : I could check an image of the road at \n",
    "        night /in a dusty place - the lines might not be so visible."
   ]
  }
 ],
 "metadata": {
  "anaconda-cloud": {},
  "kernelspec": {
   "display_name": "Python [conda env:carnd-term1]",
   "language": "python",
   "name": "conda-env-carnd-term1-py"
  },
  "language_info": {
   "codemirror_mode": {
    "name": "ipython",
    "version": 3
   },
   "file_extension": ".py",
   "mimetype": "text/x-python",
   "name": "python",
   "nbconvert_exporter": "python",
   "pygments_lexer": "ipython3",
   "version": "3.5.2"
  }
 },
 "nbformat": 4,
 "nbformat_minor": 1
}
